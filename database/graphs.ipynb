{
 "cells": [
  {
   "cell_type": "code",
   "execution_count": null,
   "metadata": {},
   "outputs": [],
   "source": [
    "\"\"\"Solely for producing and recording the graphs we want to show the client.\n",
    "Shouldn't have any functions.\"\"\"\n",
    "\n",
    "%matplotlib widget\n"
   ]
  }
 ],
 "metadata": {
  "language_info": {
   "name": "python"
  }
 },
 "nbformat": 4,
 "nbformat_minor": 2
}

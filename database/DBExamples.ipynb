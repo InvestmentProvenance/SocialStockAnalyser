{
 "cells": [
  {
   "cell_type": "code",
   "execution_count": 40,
   "metadata": {},
   "outputs": [],
   "source": [
    "# DB instance identifier : investdata\n",
    "# username: name : admin\n",
    "# Password: 12345678\n",
    "# Host: investdata.c5cwsai4kiot.us-east-1.rds.amazonaws.com\n",
    "# Port: 3306\n",
    "# Region = us-east-1a"
   ]
  },
  {
   "cell_type": "code",
   "execution_count": 3,
   "metadata": {},
   "outputs": [
    {
     "name": "stderr",
     "output_type": "stream",
     "text": [
      "1373.58s - pydevd: Sending message related to process being replaced timed-out after 5 seconds\n"
     ]
    },
    {
     "name": "stdout",
     "output_type": "stream",
     "text": [
      "Defaulting to user installation because normal site-packages is not writeable\n",
      "Collecting pandas\n",
      "  Obtaining dependency information for pandas from https://files.pythonhosted.org/packages/ee/0d/43c80cc69ad223356b61d12e488acf5f861dc833d498f43869efd871f5c9/pandas-2.2.0-cp39-cp39-macosx_11_0_arm64.whl.metadata\n",
      "  Downloading pandas-2.2.0-cp39-cp39-macosx_11_0_arm64.whl.metadata (19 kB)\n",
      "Requirement already satisfied: pymysql in /Users/han-a/Library/Python/3.9/lib/python/site-packages (1.1.0)\n",
      "Requirement already satisfied: numpy<2,>=1.22.4 in /Library/Python/3.9/site-packages (from pandas) (1.24.1)\n",
      "Requirement already satisfied: python-dateutil>=2.8.2 in /Library/Python/3.9/site-packages (from pandas) (2.8.2)\n",
      "Collecting pytz>=2020.1 (from pandas)\n",
      "  Obtaining dependency information for pytz>=2020.1 from https://files.pythonhosted.org/packages/9c/3d/a121f284241f08268b21359bd425f7d4825cffc5ac5cd0e1b3d82ffd2b10/pytz-2024.1-py2.py3-none-any.whl.metadata\n",
      "  Downloading pytz-2024.1-py2.py3-none-any.whl.metadata (22 kB)\n",
      "Collecting tzdata>=2022.7 (from pandas)\n",
      "  Obtaining dependency information for tzdata>=2022.7 from https://files.pythonhosted.org/packages/a3/fb/52b62131e21b24ee297e4e95ed41eba29647dad0e0051a92bb66b43c70ff/tzdata-2023.4-py2.py3-none-any.whl.metadata\n",
      "  Downloading tzdata-2023.4-py2.py3-none-any.whl.metadata (1.4 kB)\n",
      "Requirement already satisfied: six>=1.5 in /Library/Developer/CommandLineTools/Library/Frameworks/Python3.framework/Versions/3.9/lib/python3.9/site-packages (from python-dateutil>=2.8.2->pandas) (1.15.0)\n",
      "Downloading pandas-2.2.0-cp39-cp39-macosx_11_0_arm64.whl (11.8 MB)\n",
      "\u001b[2K   \u001b[90m━━━━━━━━━━━━━━━━━━━━━━━━━━━━━━━━━━━━━━━━\u001b[0m \u001b[32m11.8/11.8 MB\u001b[0m \u001b[31m10.2 MB/s\u001b[0m eta \u001b[36m0:00:00\u001b[0m00:01\u001b[0m00:01\u001b[0m\n",
      "\u001b[?25hDownloading pytz-2024.1-py2.py3-none-any.whl (505 kB)\n",
      "\u001b[2K   \u001b[90m━━━━━━━━━━━━━━━━━━━━━━━━━━━━━━━━━━━━━━━━\u001b[0m \u001b[32m505.5/505.5 kB\u001b[0m \u001b[31m9.2 MB/s\u001b[0m eta \u001b[36m0:00:00\u001b[0mta \u001b[36m0:00:01\u001b[0m\n",
      "\u001b[?25hDownloading tzdata-2023.4-py2.py3-none-any.whl (346 kB)\n",
      "\u001b[2K   \u001b[90m━━━━━━━━━━━━━━━━━━━━━━━━━━━━━━━━━━━━━━━━\u001b[0m \u001b[32m346.6/346.6 kB\u001b[0m \u001b[31m12.2 MB/s\u001b[0m eta \u001b[36m0:00:00\u001b[0m\n",
      "\u001b[?25hInstalling collected packages: pytz, tzdata, pandas\n",
      "Successfully installed pandas-2.2.0 pytz-2024.1 tzdata-2023.4\n",
      "\n",
      "\u001b[1m[\u001b[0m\u001b[34;49mnotice\u001b[0m\u001b[1;39;49m]\u001b[0m\u001b[39;49m A new release of pip is available: \u001b[0m\u001b[31;49m23.2.1\u001b[0m\u001b[39;49m -> \u001b[0m\u001b[32;49m23.3.2\u001b[0m\n",
      "\u001b[1m[\u001b[0m\u001b[34;49mnotice\u001b[0m\u001b[1;39;49m]\u001b[0m\u001b[39;49m To update, run: \u001b[0m\u001b[32;49m/Library/Developer/CommandLineTools/usr/bin/python3 -m pip install --upgrade pip\u001b[0m\n"
     ]
    }
   ],
   "source": [
    "!pip3 install pandas pymysql\n"
   ]
  },
  {
   "cell_type": "code",
   "execution_count": 2,
   "metadata": {},
   "outputs": [
    {
     "data": {
      "text/plain": [
       "1"
      ]
     },
     "execution_count": 2,
     "metadata": {},
     "output_type": "execute_result"
    }
   ],
   "source": [
    "import pymysql\n",
    "db = pymysql.connect(host = 'investdata.c5cwsai4kiot.us-east-1.rds.amazonaws.com',user = 'admin',password ='12345678')\n",
    "\n",
    "cursor = db.cursor()\n",
    "cursor.execute(\"select version()\")"
   ]
  },
  {
   "cell_type": "code",
   "execution_count": 61,
   "metadata": {},
   "outputs": [
    {
     "name": "stdout",
     "output_type": "stream",
     "text": [
      "Data from /Users/han-a/Desktop/Stockdata/alphavantage_data_GME_2020-09.csv uploaded successfully.\n",
      "Data from /Users/han-a/Desktop/Stockdata/alphavantage_data_GME_2020-08.csv uploaded successfully.\n",
      "Data from /Users/han-a/Desktop/Stockdata/alphavantage_data_GME_2021-07.csv uploaded successfully.\n",
      "Data from /Users/han-a/Desktop/Stockdata/alphavantage_data_GME_2021-06.csv uploaded successfully.\n",
      "Data from /Users/han-a/Desktop/Stockdata/alphavantage_data_GME_2021-12.csv uploaded successfully.\n",
      "Data from /Users/han-a/Desktop/Stockdata/alphavantage_data_GME_2021-04.csv uploaded successfully.\n",
      "Data from /Users/han-a/Desktop/Stockdata/alphavantage_data_GME_2021-10.csv uploaded successfully.\n",
      "Data from /Users/han-a/Desktop/Stockdata/alphavantage_data_GME_2021-11.csv uploaded successfully.\n",
      "Data from /Users/han-a/Desktop/Stockdata/alphavantage_data_GME_2021-05.csv uploaded successfully.\n",
      "Data from /Users/han-a/Desktop/Stockdata/alphavantage_data_GME_2021-01.csv uploaded successfully.\n",
      "Data from /Users/han-a/Desktop/Stockdata/alphavantage_data_GME_2021-02.csv uploaded successfully.\n",
      "Data from /Users/han-a/Desktop/Stockdata/alphavantage_data_GME_2021-03.csv uploaded successfully.\n",
      "Data from /Users/han-a/Desktop/Stockdata/alphavantage_data_GME_2021-08.csv uploaded successfully.\n",
      "Data from /Users/han-a/Desktop/Stockdata/alphavantage_data_GME_2021-09.csv uploaded successfully.\n",
      "Data from /Users/han-a/Desktop/Stockdata/alphavantage_data_GME_2020-05.csv uploaded successfully.\n",
      "Data from /Users/han-a/Desktop/Stockdata/alphavantage_data_GME_2020-11.csv uploaded successfully.\n",
      "Data from /Users/han-a/Desktop/Stockdata/alphavantage_data_GME_2022-01.csv uploaded successfully.\n",
      "Data from /Users/han-a/Desktop/Stockdata/alphavantage_data_GME_2020-10.csv uploaded successfully.\n",
      "Data from /Users/han-a/Desktop/Stockdata/alphavantage_data_GME_2020-04.csv uploaded successfully.\n",
      "Data from /Users/han-a/Desktop/Stockdata/alphavantage_data_GME_2020-12.csv uploaded successfully.\n",
      "Data from /Users/han-a/Desktop/Stockdata/alphavantage_data_GME_2020-06.csv uploaded successfully.\n",
      "Data from /Users/han-a/Desktop/Stockdata/alphavantage_data_GME_2020-07.csv uploaded successfully.\n",
      "Data from /Users/han-a/Desktop/Stockdata/alphavantage_data_GME_2020-03.csv uploaded successfully.\n",
      "Data from /Users/han-a/Desktop/Stockdata/alphavantage_data_GME_2020-02.csv uploaded successfully.\n",
      "Data from /Users/han-a/Desktop/Stockdata/alphavantage_data_GME_2020-01.csv uploaded successfully.\n"
     ]
    }
   ],
   "source": [
    "import pandas as pd\n",
    "import pymysql\n",
    "import os\n",
    "import re\n",
    "import glob\n",
    "\n",
    "# Database connection parameters\n",
    "host = os.environ['DB_HOST']\n",
    "user = os.environ['DB_USER']\n",
    "password = os.environ['DB_PASSWORD']\n",
    "database = os.environ['DB_NAME']\n",
    "\n",
    "\n",
    "\n",
    "# Directory containing CSV files\n",
    "directory_path = '/Users/han-a/Desktop/Stockdata'\n",
    "\n",
    "# Connect to the database\n",
    "db = pymysql.connect(host=host, user=user, password=password, database=database)\n",
    "cursor = db.cursor()\n",
    "\n",
    "# Create table SQL statement\n",
    "create_table_sql = \"\"\"\n",
    "CREATE TABLE IF NOT EXISTS stock_data (\n",
    "    timestamp DATETIME,\n",
    "    open FLOAT,\n",
    "    high FLOAT,\n",
    "    low FLOAT,\n",
    "    close FLOAT,\n",
    "    volume BIGINT,\n",
    "    symbol VARCHAR(10)\n",
    ")\n",
    "\"\"\"\n",
    "\n",
    "# Execute the create table statement\n",
    "cursor.execute(create_table_sql)\n",
    "\n",
    "# Function to upload a single file using bulk insert\n",
    "def upload_file(csv_file_path):\n",
    "    filename = os.path.basename(csv_file_path)\n",
    "    symbol_match = re.search(r'\\w+_\\w+_(\\w+)_\\d{4}-\\d{2}\\.csv$', filename)\n",
    "    if symbol_match:\n",
    "        symbol = symbol_match.group(1).upper()\n",
    "    else:\n",
    "        print(f\"Could not extract symbol from filename {filename}\")\n",
    "        return  # Skip this file if the symbol cannot be extracted\n",
    "    \n",
    "    df = pd.read_csv(csv_file_path)\n",
    "    df['symbol'] = symbol\n",
    "\n",
    "    # Prepare data for bulk insert\n",
    "    data_tuples = [tuple(x) for x in df.to_records(index=False)]\n",
    "    \n",
    "    insert_sql = \"\"\"\n",
    "    INSERT INTO stock_data (timestamp, open, high, low, close, volume, symbol)\n",
    "    VALUES (%s, %s, %s, %s, %s, %s, %s)\n",
    "    \"\"\"\n",
    "\n",
    "    # Execute bulk insert\n",
    "    try:\n",
    "        cursor.executemany(insert_sql, data_tuples)\n",
    "        db.commit()\n",
    "        print(f\"Data from {csv_file_path} uploaded successfully.\")\n",
    "    except Exception as e:\n",
    "        db.rollback()  # Rollback in case of error\n",
    "        print(f\"Failed to upload data from {csv_file_path}. Error: {e}\")\n",
    "\n",
    "# Loop through each CSV file in the directory and upload it\n",
    "for csv_file_path in glob.glob(os.path.join(directory_path, '*.csv')):\n",
    "    upload_file(csv_file_path)\n",
    "\n",
    "# Close the database connection\n",
    "db.close()\n"
   ]
  },
  {
   "cell_type": "markdown",
   "metadata": {},
   "source": []
  },
  {
   "cell_type": "code",
   "execution_count": null,
   "metadata": {},
   "outputs": [],
   "source": [
    "import os\n",
    "\n",
    "host = os.environ['DB_HOST']\n",
    "user = os.environ['DB_USER']\n",
    "password = os.environ['DB_PASSWORD']\n",
    "database = os.environ['DB_NAME']\n",
    "\n",
    "\n",
    "try:\n",
    "    # Connect to the MySQL server\n",
    "    connection = pymysql.connect(host=host, user=user, password=password, database=database)\n",
    "\n",
    "    # Create a cursor object\n",
    "    cursor = connection.cursor()\n",
    "\n",
    "    # Define the SQL query to select all data from the table\n",
    "    select_query = f\"SELECT * FROM {'stock_data'}\"\n",
    "\n",
    "    # Execute the query\n",
    "    cursor.execute(select_query)\n",
    "\n",
    "    # Fetch all the rows (table data)\n",
    "    table_data = cursor.fetchall()\n",
    "\n",
    "    # Display the table data\n",
    "    for row in table_data:\n",
    "        print(row)\n",
    "\n",
    "except pymysql.Error as e:\n",
    "    print(f\"Error: {e}\")\n",
    "\n",
    "finally:\n",
    "    if connection:\n",
    "        connection.close()"
   ]
  },
  {
   "cell_type": "code",
   "execution_count": 47,
   "metadata": {},
   "outputs": [
    {
     "data": {
      "text/plain": [
       "[]"
      ]
     },
     "execution_count": 47,
     "metadata": {},
     "output_type": "execute_result"
    }
   ],
   "source": [
    "\n",
    "cursor.fetchall()"
   ]
  },
  {
   "cell_type": "code",
   "execution_count": 50,
   "metadata": {},
   "outputs": [],
   "source": [
    "# db.close()\n",
    "cursor.close()"
   ]
  },
  {
   "cell_type": "code",
   "execution_count": 54,
   "metadata": {},
   "outputs": [
    {
     "ename": "Error",
     "evalue": "Already closed",
     "output_type": "error",
     "traceback": [
      "\u001b[0;31m---------------------------------------------------------------------------\u001b[0m",
      "\u001b[0;31mError\u001b[0m                                     Traceback (most recent call last)",
      "Cell \u001b[0;32mIn[54], line 4\u001b[0m\n\u001b[1;32m      1\u001b[0m \u001b[38;5;66;03m# cursor.close()\u001b[39;00m\n\u001b[1;32m      2\u001b[0m \n\u001b[1;32m      3\u001b[0m \u001b[38;5;66;03m# Close the database connection\u001b[39;00m\n\u001b[0;32m----> 4\u001b[0m \u001b[43mdb\u001b[49m\u001b[38;5;241;43m.\u001b[39;49m\u001b[43mclose\u001b[49m\u001b[43m(\u001b[49m\u001b[43m)\u001b[49m\n",
      "File \u001b[0;32m~/Library/Python/3.9/lib/python/site-packages/pymysql/connections.py:409\u001b[0m, in \u001b[0;36mConnection.close\u001b[0;34m(self)\u001b[0m\n\u001b[1;32m    400\u001b[0m \u001b[38;5;250m\u001b[39m\u001b[38;5;124;03m\"\"\"\u001b[39;00m\n\u001b[1;32m    401\u001b[0m \u001b[38;5;124;03mSend the quit message and close the socket.\u001b[39;00m\n\u001b[1;32m    402\u001b[0m \n\u001b[0;32m   (...)\u001b[0m\n\u001b[1;32m    406\u001b[0m \u001b[38;5;124;03m:raise Error: If the connection is already closed.\u001b[39;00m\n\u001b[1;32m    407\u001b[0m \u001b[38;5;124;03m\"\"\"\u001b[39;00m\n\u001b[1;32m    408\u001b[0m \u001b[38;5;28;01mif\u001b[39;00m \u001b[38;5;28mself\u001b[39m\u001b[38;5;241m.\u001b[39m_closed:\n\u001b[0;32m--> 409\u001b[0m     \u001b[38;5;28;01mraise\u001b[39;00m err\u001b[38;5;241m.\u001b[39mError(\u001b[38;5;124m\"\u001b[39m\u001b[38;5;124mAlready closed\u001b[39m\u001b[38;5;124m\"\u001b[39m)\n\u001b[1;32m    410\u001b[0m \u001b[38;5;28mself\u001b[39m\u001b[38;5;241m.\u001b[39m_closed \u001b[38;5;241m=\u001b[39m \u001b[38;5;28;01mTrue\u001b[39;00m\n\u001b[1;32m    411\u001b[0m \u001b[38;5;28;01mif\u001b[39;00m \u001b[38;5;28mself\u001b[39m\u001b[38;5;241m.\u001b[39m_sock \u001b[38;5;129;01mis\u001b[39;00m \u001b[38;5;28;01mNone\u001b[39;00m:\n",
      "\u001b[0;31mError\u001b[0m: Already closed"
     ]
    }
   ],
   "source": [
    "# cursor.close()\n",
    "\n",
    "# Close the database connection\n",
    "db.close()"
   ]
  },
  {
   "cell_type": "markdown",
   "metadata": {},
   "source": []
  },
  {
   "cell_type": "code",
   "execution_count": 35,
   "metadata": {},
   "outputs": [
    {
     "name": "stdout",
     "output_type": "stream",
     "text": [
      "rewq\n",
      "Symbol: GME\n"
     ]
    }
   ],
   "source": [
    "import re\n",
    "import os\n",
    "\n",
    "csv_file_path = '/Users/han-a/Desktop/Stockdata/alphavantage_data_GME_2020-01.csv'\n",
    "filename = os.path.basename(csv_file_path)\n",
    "string = filename\n",
    "match = re.search(r'\\w+_\\w+_(\\w+)_\\d{4}-\\d{2}\\.csv$', filename)\n",
    "\n",
    "\n",
    "\n",
    "if match:\n",
    "    symbol = match.group(1)\n",
    "    print(\"Symbol:\", symbol)\n",
    "else:\n",
    "    print(\"No match found.\")\n",
    "\n",
    "\n",
    "# CSV file path\n",
    "\n",
    "\n",
    "# # Extract symbol from filename (assumed format: x-x-symbol-x.csv)\n",
    "# filename = os.path.basename(csv_file_path)\n",
    "# symbol_match = re.search(r'-([^-]+)-[^-]+\\.csv$', filename)\n"
   ]
  }
 ],
 "metadata": {
  "kernelspec": {
   "display_name": "Python 3",
   "language": "python",
   "name": "python3"
  },
  "language_info": {
   "codemirror_mode": {
    "name": "ipython",
    "version": 3
   },
   "file_extension": ".py",
   "mimetype": "text/x-python",
   "name": "python",
   "nbconvert_exporter": "python",
   "pygments_lexer": "ipython3",
   "version": "3.11.7"
  }
 },
 "nbformat": 4,
 "nbformat_minor": 2
}
